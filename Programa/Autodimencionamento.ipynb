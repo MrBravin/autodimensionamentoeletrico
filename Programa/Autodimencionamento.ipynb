{
 "cells": [
  {
   "cell_type": "code",
   "execution_count": 44,
   "id": "98070ea5-7c97-4c44-999b-28c29f35f5cf",
   "metadata": {},
   "outputs": [],
   "source": [
    "tabela_usada = \"DOIS_COBRE_PVC.xlsx\" #\n",
    "metodo = 'B1'\n",
    "bitolaMin = 2.5\n",
    "P=7200\n",
    "V=220\n",
    "I = P/V\n",
    "n_circuitos = 3\n",
    "temperatura_ambiente = 30\n",
    "condicao = 'PVCAMBIENTE'"
   ]
  },
  {
   "cell_type": "code",
   "execution_count": 45,
   "id": "00d23147-7ac8-4d70-b11a-d84cb6856e72",
   "metadata": {},
   "outputs": [],
   "source": [
    "import pandas as pd\n",
    "tabela_inicial = pd.read_excel(tabela_usada)\n",
    "#print(tabela_inicial)\n",
    "\n",
    "disjuntores = pd.read_excel(\"DISJUNTORES.xlsx\")\n",
    "#print(disjuntores)\n",
    "\n",
    "temperatura = pd.read_excel(\"TEMPERATURA.xlsx\")\n",
    "#print(temperatura)\n",
    "\n",
    "agrupamento = pd.read_excel(\"AGRUPAMENTO.xlsx\")"
   ]
  },
  {
   "cell_type": "code",
   "execution_count": 46,
   "id": "16643f0a-6826-4163-951b-71042cb311b3",
   "metadata": {},
   "outputs": [
    {
     "name": "stdout",
     "output_type": "stream",
     "text": [
      "0.564\n"
     ]
    }
   ],
   "source": [
    "coluna_temperatura = 'TEMPERATURA'\n",
    "linha_fator_temperatura = 0\n",
    "\n",
    "maior_temperatura_mais_proxima = temperatura.loc[linha_fator_temperatura][coluna_temperatura]\n",
    "\n",
    "while float(maior_temperatura_mais_proxima)<= temperatura_ambiente:\n",
    "    linha_fator_temperatura = linha_fator_temperatura+1\n",
    "    maior_temperatura_mais_proxima = temperatura.loc[linha_fator_temperatura][coluna_temperatura]\n",
    "    fator_temperatura = temperatura.loc[linha_fator_temperatura][condicao]\n",
    "    \n",
    "fator_agrupamento = agrupamento.loc[n_circuitos+1][metodo]    \n",
    "\n",
    "fator_de_correcao = fator_agrupamento*fator_temperatura\n",
    "print(fator_de_correcao)"
   ]
  },
  {
   "cell_type": "code",
   "execution_count": 47,
   "id": "38f78486-1fc4-4cec-b241-02a1472b7653",
   "metadata": {},
   "outputs": [
    {
     "name": "stdout",
     "output_type": "stream",
     "text": [
      "Disjuntor de: 40 amperes\n"
     ]
    }
   ],
   "source": [
    "coluna_disjuntor = 'DISJUNTOR'\n",
    "linha_disjuntor = 0\n",
    "\n",
    "disjuntor = disjuntores.loc[linha_disjuntor][coluna_disjuntor]\n",
    "\n",
    "while float(disjuntor)<= I:\n",
    "    linha_disjuntor = linha_disjuntor+1\n",
    "    disjuntor = disjuntores.loc[linha_disjuntor][coluna_disjuntor]\n",
    "\n",
    "print(\"Disjuntor de:\",disjuntor,\"amperes\")"
   ]
  },
  {
   "cell_type": "code",
   "execution_count": 48,
   "id": "30f2117a-c008-407e-a229-37a60bd7d289",
   "metadata": {},
   "outputs": [
    {
     "name": "stdout",
     "output_type": "stream",
     "text": [
      "Fio de: 25.0 mm2, que suporta até: 50.5 amperes\n"
     ]
    }
   ],
   "source": [
    "bit = 'SEÇÃO'\n",
    "linha_bitola = 0\n",
    "\n",
    "tabela = tabela_inicial.copy()\n",
    "tabela[metodo] = tabela[metodo]*FT\n",
    "#print(tabela)\n",
    "\n",
    "Imax = tabela.loc[linha_bitola][metodo]\n",
    "fio = tabela.loc[linha_bitola][bit]\n",
    "\n",
    "while float(Imax) <= disjuntor:\n",
    "    linha_bitola = linha_bitola+1\n",
    "    Imax = tabela.loc[linha_bitola][metodo]\n",
    "    fio = tabela.loc[linha_bitola][bit]\n",
    "\n",
    "while float(fio)<bitolaMin:\n",
    "    linha_bitola = linha_bitola+1\n",
    "    Imax = tabela.loc[linha_bitola][metodo]\n",
    "    fio = tabela.loc[linha_bitola][bit]\n",
    "\n",
    "print(\"Fio de:\",fio,\"mm2, que suporta até:\",Imax,\"amperes\")"
   ]
  },
  {
   "cell_type": "code",
   "execution_count": null,
   "id": "51077557-d2e1-42b7-aa7e-773eb0ef57bf",
   "metadata": {},
   "outputs": [],
   "source": []
  }
 ],
 "metadata": {
  "kernel_info": {
   "name": "python"
  },
  "kernelspec": {
   "display_name": "ilumpy",
   "language": "python",
   "name": "ilumpy"
  },
  "language_info": {
   "codemirror_mode": {
    "name": "ipython",
    "version": 3
   },
   "file_extension": ".py",
   "mimetype": "text/x-python",
   "name": "python",
   "nbconvert_exporter": "python",
   "pygments_lexer": "ipython3",
   "version": "3.10.8"
  },
  "nteract": {
   "version": "nteract-front-end@1.0.0"
  }
 },
 "nbformat": 4,
 "nbformat_minor": 5
}
